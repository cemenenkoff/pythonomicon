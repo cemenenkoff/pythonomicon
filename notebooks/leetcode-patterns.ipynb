{
 "cells": [
  {
   "cell_type": "markdown",
   "metadata": {},
   "source": [
    "# 15 Foundational Leetcode Patterns\n",
    "Learning when to apply these patterns is foundational to good software engineering."
   ]
  },
  {
   "cell_type": "code",
   "execution_count": 80,
   "metadata": {},
   "outputs": [],
   "source": [
    "import sys\n",
    "from pathlib import Path\n",
    "\n",
    "sys.path.append(str(Path.cwd()))\n",
    "from src.utils import timer"
   ]
  },
  {
   "cell_type": "markdown",
   "metadata": {},
   "source": [
    "____\n",
    "## 0. Building Strings\n",
    "- Since strings are immutable, concatenating a single character to a string of length $n$ is an $O(n)$ operation.\n",
    "- Many problems involve building a string, piece by piece.\n",
    "\n",
    "*What is the best way to build strings incrementally?*\n",
    "\n",
    "This varies between languages, so we will focus on Python.\n",
    "\n",
    "#### How to Build a String in Python\n",
    "1. Declare a list\n",
    "2. When building the string, add characters to the list.\n",
    "   1. Adding characters to a list is $O(1)$, so across $n$ operations, we have $O(n)$\n",
    "3. Once we have everything, we convert to a string with `\"\".join(list)`. This is $O(n)$.\n",
    "4. In total, we get $O(n + n) = O(2n) = O(n)$."
   ]
  },
  {
   "cell_type": "markdown",
   "metadata": {},
   "source": [
    "____\n",
    "## 1. Prefix Sum\n",
    "#### Used for: ***querying the sum of elements in a subarray.***\n",
    "\n",
    "- The concept of a *prefix sum* is equivalent to the concept of a *sequence of partial sums* from the study of series in math.\n",
    "- Partial sums are useful in determining infinite series' convergence properties.\n",
    "- Prefix sums are useful to use as *lookup tables* when querying the sum of elements in a subarray.\n",
    "  - Prefix sums allow us to find the sum of any subarray in $O(1)$.\n",
    "  - This is because **`sum[i,j]` (inclusive) can be expressed as a difference of partial sums**.\n",
    "- As a general note, when a subarray starts at index 0, it is considered a *prefix* of the array.\n",
    "\n",
    "Say we are given `A`, and we need to find the sum of elements `A[i : j]`, for several given pairs of $(i, j)$.\n",
    "```python\n",
    "A = [1, 2, 3,  4,  5,  6,  7]\n",
    "P = [1, 3, 6, 10, 15, 21, 28]\n",
    "```"
   ]
  },
  {
   "cell_type": "markdown",
   "metadata": {},
   "source": [
    "### Naive Solution"
   ]
  },
  {
   "cell_type": "code",
   "execution_count": 81,
   "metadata": {},
   "outputs": [
    {
     "name": "stdout",
     "output_type": "stream",
     "text": [
      "                       find_subarray_sum: 12 found in 2.09989957511425e-06 seconds\n",
      "                       find_subarray_sum: 18 found in 1.800013706088066e-06 seconds\n",
      "                       find_subarray_sum: 25 found in 3.200024366378784e-06 seconds\n"
     ]
    }
   ],
   "source": [
    "A = list(range(1, 8))\n",
    "QUERIES = [(2, 4), (2, 5), (2, 6)]\n",
    "\n",
    "@timer\n",
    "def find_subarray_sum(arr: list, i: int, j: int) -> int:\n",
    "    \"\"\"Equivalent to `sum(A[i:j+1])`.\"\"\"\n",
    "    tot = 0\n",
    "    for num in arr[i : j + 1]:\n",
    "        tot += num\n",
    "    return tot\n",
    "\n",
    "for i, j in QUERIES:\n",
    "    find_subarray_sum(A, i, j)"
   ]
  },
  {
   "cell_type": "markdown",
   "metadata": {},
   "source": [
    "*What is the time complexity of the naive solution if there is only 1 query?*\n",
    "- $O(n)$ because in the worst case, it must loop through the entire length of `A`.\n",
    "\n",
    "*What if we have multiple queries?*\n",
    "- Then the time complexity grows to $O(mn)$, since $m$ queries must loop through $n$ elements.\n",
    "\n",
    "*How can we answer these queries faster?*\n",
    "- By applying the prefix sum pattern.\n",
    "\n",
    "*What makes the prefix sum pattern fast?*\n",
    "- It takes advantage of a property about sums and their relations to prefix sums.\n",
    "- This property (i.e. formula) allows for all subarray sum queries to be computed in $O(1)$.\n",
    "\n",
    "*What is the special property about sums and how they relate to prefix sums?*\n",
    "```python\n",
    "Notice\n",
    "           P[i] = A[0] + A[1] + ... + A[i]\n",
    "           P[j] = A[0] + A[1] + ... + A[j]\n",
    "    P[j] - P[i] = A[0] + A[1] + ... + A[j] - (A[0] + A[1] + ... + A[i])\n",
    "                = A[i + 1] + A[i + 2]+ ... + A[j]\n",
    "P[j] - P[i - 1] = A[i] + A[i + 1] + ... + A[j]\n",
    "                = sum(A[i : j]) (inclusive)\n",
    "\n",
    "Now notice\n",
    "       P[i - 1] = A[0] + A[1] + ... + A[i - 1]\n",
    "                = P[i] - A[i]\n",
    "\n",
    "So\n",
    " sum(A[i : j])  = P[j] - P[i] + A[i]\n",
    "```\n",
    "\n",
    "*Why is `P[j] - P[i] + A[i]` better than `P[j] - P[i - 1]`?*\n",
    "- With `P[j] - P[i] + A[i]`, we don't need to deal with the pesky case when `i=0`, which would cause an error with `P[i - 1]`.\n",
    "\n",
    "*What is the best way to remember how this property is derived?*\n",
    "- The best general path to follow is:\n",
    "  - Find the difference `P[j] - P[i]`.\n",
    "  - Notice the difference is the `sum[i + 1 : j]` (inclusive).\n",
    "  - Notice `P[i - 1]` can be rewritten as `P[i] - A[i]`.\n",
    "  - Substitute this new definition to get `P[j] - P[i] + A[i]`.\n",
    "- This means that ***to answer a subsequence sum query, we can sum just 3 elements*** rather than $n$ consecutive elements.\n",
    "\n",
    "*What is the time complexity of our query problem, when using prefix sums?*\n",
    "- Building the prefix sum array costs $O(n)$ to build, but then answering each query is $O(1)$.\n",
    "- This changes the time complexity to $O(n + m)$."
   ]
  },
  {
   "cell_type": "markdown",
   "metadata": {},
   "source": [
    "### Optimized Solution"
   ]
  },
  {
   "cell_type": "code",
   "execution_count": 82,
   "metadata": {},
   "outputs": [
    {
     "name": "stdout",
     "output_type": "stream",
     "text": [
      "                       create_prefix_sum: [1, 3, 6, 10, 15, 21, 28] found in 4.800036549568176e-06 seconds\n",
      "                      find_subarray_sums: [12, 18, 25] found in 0.0003162000793963671 seconds\n"
     ]
    },
    {
     "data": {
      "text/plain": [
       "[12, 18, 25]"
      ]
     },
     "execution_count": 82,
     "metadata": {},
     "output_type": "execute_result"
    }
   ],
   "source": [
    "from typing import List, Tuple\n",
    "\n",
    "@timer\n",
    "def create_prefix_sum(arr):\n",
    "    for i in range(1, len(arr)):\n",
    "        arr[i] += arr[i - 1]\n",
    "    return arr\n",
    "\n",
    "@timer\n",
    "def find_subarray_sums (arr: list, queries: List[Tuple[int, int]]):\n",
    "    arr_ps = create_prefix_sum(arr)  # Loops through n elements once.\n",
    "    results = []\n",
    "    for i, j in queries: # Loops through m elements once.\n",
    "        if i == 0:  # Return the partial sum directly if starting from the beginning.\n",
    "            results.append(arr_ps[j])\n",
    "        results.append(arr_ps[j] - arr_ps[i - 1])\n",
    "    return results\n",
    "\n",
    "A = list(range(1, 8))\n",
    "QUERIES = [(2, 4), (2, 5), (2, 6)]\n",
    "find_subarray_sums(A, QUERIES)\n"
   ]
  },
  {
   "cell_type": "markdown",
   "metadata": {},
   "source": [
    "*What is the main lesson?*\n",
    "- We don't always need a new array for a new query.\n",
    "- We can *pre-process* data initially to save resources in the long run.\n",
    "- Note that building a prefix sum is a form of *pre-processing*.\n",
    "- A prefix sum array is meant to be used as a *lookup table* to save resources.\n",
    "\n",
    "### Recommended Leetcode Practice Problems\n",
    " - 303. ~~**Range Sum Query - Immutable** (`Easy`)~~\n",
    " - 525. ~~**Contiguous Array** (`Medium`)~~\n",
    " - 560. **Subarray Sum Equals K** (`Medium`)"
   ]
  },
  {
   "cell_type": "markdown",
   "metadata": {},
   "source": [
    "____\n",
    "## 2. Two Pointers"
   ]
  },
  {
   "cell_type": "markdown",
   "metadata": {},
   "source": [
    "This pattern is used for: ***efficiently traversing or comparing elements within a sequence***.\n",
    "\n",
    "The pattern is to: ***start the pointers at the edges of the input, then move them towards each other until they meet***.\n",
    "\n",
    "As instructions:\n",
    "1. Start one pointer at the first index `0` and the other pointer at the last index `input.length - 1`.\n",
    "2. Use a *while loop* until the *pointers are equal* to each other.\n",
    "3. At each iteration of the loop, *move at least one of the pointers* ***toward*** each other (or both), depending on given criteria.\n",
    "\n",
    "Say we are given `A`, a string of characters, and we want to check whether it is a palindrome.\n",
    "A string is a palindrome if it's the same when the order of characters is reversed.\n",
    "```python\n",
    "A = \"a b c d c b a\"\n",
    "```\n"
   ]
  },
  {
   "cell_type": "markdown",
   "metadata": {},
   "source": [
    "### Optimized Solution\n",
    "To solve this, start the pointers at the edges of the input. Move them towards each other until they meet. If everything has been equal up until this final character, then the string is a palindrome."
   ]
  },
  {
   "cell_type": "code",
   "execution_count": 83,
   "metadata": {},
   "outputs": [],
   "source": [
    "def is_palindrome(mystr):\n",
    "    n = len(mystr)\n",
    "    start = 0\n",
    "    end = n - 1\n",
    "    while start < end:  # a b c b a\n",
    "        if mystr[start] != mystr[end]:\n",
    "            return False\n",
    "        start += 1\n",
    "        end -= 1\n",
    "    return True"
   ]
  },
  {
   "cell_type": "markdown",
   "metadata": {},
   "source": [
    "*How does using the two pointers approach affect time complexity?*\n",
    "- We often see that $O(n^2)$ reduces to $O(n)$.\n",
    "- Since the pointers start $n$ away from each other and move at least one step closer every interation, this technique will never have more than $O(n)$ iterations.\n",
    "  - This means if we can limit each iteration to $O(1)$ (direct address lookup), we will get a linear runtime.\n",
    "\n",
    "*What about space complexity?*\n",
    "- $O(1)$, because no matter how big the input is, we only use *two* integer variables.\n",
    "\n",
    "### Recommended Leetcode Practice Problems\n",
    " - 167. **Two Sum II - Input Array Is Sorted** (Medium)\n",
    " - 15. **3Sum** (Medium)\n",
    " - 11. **Container With Most Water** (Medium)"
   ]
  },
  {
   "cell_type": "markdown",
   "metadata": {},
   "source": [
    "____\n",
    "2.1 Two Pointers, Two Arrays\n",
    "\n",
    "This pattern is to: ***check along two arrays simultaneously until all elments have been checked***.\n",
    "\n",
    "As Instructions:\n",
    "1. Create two pointers, one for each iterable. Each pointer should start at the first index.\n",
    "2. Use a while loop until one of the pointers reaches the end of its iterable.\n",
    "3. At each iteration of the loop, move the pointers forward. This means incrementing either one of the pointers or both of the pointers. Deciding which pointers to move will depend on the problem we are trying to solve.\n",
    "4. Because our while loop will stop when one of the pointers reaches the end, the other pointer will not be at the end of its respective iterable when the loop finishes. Sometimes, we need to iterate through all elements - if this is the case, you will need to write extra code here to make sure both iterables are exhausted.\n",
    "\n",
    "As Pseudocode:\n",
    "```\n",
    "function fn(arr1, arr2):\n",
    "    i = j = 0\n",
    "    while i < arr1.length AND j < arr2.length:\n",
    "        Do some logic here depending on the problem\n",
    "        Do some more logic here to decide on one of the following:\n",
    "            1. i++\n",
    "            2. j++\n",
    "            3. Both i++ and j++\n",
    "\n",
    "    // Step 4: make sure both iterables are exhausted\n",
    "    // Note that only one of these loops would run\n",
    "    while i < arr1.length:\n",
    "        Do some logic here depending on the problem\n",
    "        i++\n",
    "\n",
    "    while j < arr2.length:\n",
    "        Do some logic here depending on the problem\n",
    "        j++\n",
    "```"
   ]
  },
  {
   "cell_type": "markdown",
   "metadata": {},
   "source": [
    "____\n",
    "## 3. Sliding Window\n",
    "This pattern is used for: ***finding subarrays or substrings that meet certain requirements.***.\n",
    "\n",
    "### Intuition\n",
    "- The idea behind sliding window is to consider *only* valid subarrays.\n",
    "- A subarray can be defined by two pointers: `left` and `right`\n",
    "- These points represent the current subarray under consideration.\n",
    "- Initially, `left=right=0`.\n",
    "- When we expand the size of the window, we do it by incrementing `right`.\n",
    "- If the window then becomes invalid, we can remove elements by incrementing `left`.\n",
    "- As we add and remove elements, the window is sliding from left to right.\n",
    "- *However*, the window's size is constantly changing!\n",
    "    - It grows as large as it can until it's invalid, then it shrinks.\n",
    "    - This might be better thought of as \"Inchworm\".\n",
    "\n",
    "### Pseudocode\n",
    "```\n",
    "function fn(arr):\n",
    "    left = 0\n",
    "    for (int right = 0; right < arr.length; right++):\n",
    "        Do some logic to \"add\" element at arr[right] to window\n",
    "\n",
    "        while WINDOW_IS_INVALID:\n",
    "            Do some logic to \"remove\" element at arr[left] from window\n",
    "            left++\n",
    "\n",
    "        Do some logic to update the answer\n",
    "```\n",
    "\n",
    "Say we are given an array of integers `A`, and we need to find the subarray of size `k` with the maximum sum. For simplicity, we assume that there is only one such maximum.\n",
    "```python\n",
    "A = [3, 2, 7, 5, 9, 6, 2], k=3\n",
    "```\n"
   ]
  },
  {
   "cell_type": "markdown",
   "metadata": {},
   "source": [
    "### Naive Solution\n",
    "The naive method would be to consider all the subarrays of size 3, using a nested for loop."
   ]
  },
  {
   "cell_type": "code",
   "execution_count": 84,
   "metadata": {},
   "outputs": [
    {
     "name": "stdout",
     "output_type": "stream",
     "text": [
      "                          max_subarr_sum: ([7, 5, 9], 21) found in 1.71000137925148e-05 seconds\n"
     ]
    },
    {
     "data": {
      "text/plain": [
       "([7, 5, 9], 21)"
      ]
     },
     "execution_count": 84,
     "metadata": {},
     "output_type": "execute_result"
    }
   ],
   "source": [
    "@timer\n",
    "def max_subarr_sum(arr, k):\n",
    "    n = len(arr)\n",
    "    max_sum = float(\"-inf\")\n",
    "    for i in range(n - k + 1):\n",
    "        current_sum = 0\n",
    "        for j in range(k):\n",
    "            current_sum += arr[i + j]\n",
    "        if current_sum > max_sum:\n",
    "            max_sum = current_sum\n",
    "            max_start_index = i\n",
    "    return arr[max_start_index : max_start_index + k], max_sum\n",
    "\n",
    "A = [3, 2, 7, 5, 9, 6, 2]\n",
    "k = 3\n",
    "max_subarr_sum(A, k)"
   ]
  },
  {
   "cell_type": "markdown",
   "metadata": {},
   "source": [
    "*What is the time complexity of the naive solution?*\n",
    "- $O(nk)$, since for each of the n start indices, there are k traversals.\n",
    "\n",
    "### Optimized Solution\n",
    "The sliding window approach keeps track of a `window_sum` that only slides once across the entire array. We can visualize as follows:\n",
    "```python\n",
    "       0   1   2   3   4   5   6\n",
    "A = [  3,  2,  7,  5,  9,  6,  2 ], k=3\n",
    "       |-------|   .   .   .   .\n",
    "           |-------|   .   .   .\n",
    "               |-------|   .   .\n",
    "                   |-------|   .\n",
    "                       |-------|\n",
    "```"
   ]
  },
  {
   "cell_type": "code",
   "execution_count": 85,
   "metadata": {},
   "outputs": [
    {
     "name": "stdout",
     "output_type": "stream",
     "text": [
      "           max_subarr_sum_sliding_window: ([2, 7, 5], 21) found in 7.800059393048286e-06 seconds\n"
     ]
    },
    {
     "data": {
      "text/plain": [
       "([2, 7, 5], 21)"
      ]
     },
     "execution_count": 85,
     "metadata": {},
     "output_type": "execute_result"
    }
   ],
   "source": [
    "@timer\n",
    "def max_subarr_sum_sliding_window(arr, k):\n",
    "    n = len(arr)\n",
    "    window_sum = sum(arr[:k])\n",
    "    max_sum = window_sum\n",
    "    max_start_index = 0\n",
    "    for i in range(n - k):\n",
    "        window_sum = window_sum - arr[i] + arr[i + k]\n",
    "        if window_sum > max_sum:\n",
    "            max_sum = window_sum\n",
    "            max_start_index = i\n",
    "    return arr[max_start_index : max_start_index + k], max_sum\n",
    "\n",
    "A = [3, 2, 7, 5, 9, 6, 2]\n",
    "k = 3\n",
    "max_subarr_sum_sliding_window(A, k)"
   ]
  },
  {
   "cell_type": "markdown",
   "metadata": {},
   "source": [
    "*How does this reduce the time complexity?*\n",
    "- Notice that for any array, there are $\\frac{n}{2}(n+1)$ subarrays.\n",
    "  - ($n$ length 1 arrays) + ($n - 1$ length 2 arrays) + ... + (1 length $n$ array).\n",
    "- Therefore, any algorithm that looks at *every* subarray will be at least $O(n^2)$.\n",
    "- A sliding window *guarantees* a max of $2n$, since the right pointer can move at maximum $n$ times, and same for the left.\n",
    "- If the logic for each window is $O(1)$, then sliding window runs in $O(n)$.\n",
    "  - $O(nk) \\rightarrow O(n)$\n",
    "\n",
    "*What is the space complexity?*\n",
    "- Since we only use 3 variables, the space complexity is constant, $O(1)$.\n",
    "\n"
   ]
  },
  {
   "cell_type": "markdown",
   "metadata": {},
   "source": [
    "### Number of Subarrays\n",
    "If a problem asks for ***the number of subarrays***, we can use a sliding window, but we need a math trick.\n",
    "\n",
    "- Let's say we currently have a window `(lp, rp)`. *How many windows **end** at`rp`?*\n",
    "- There's the current window `(lp, rp)`, then `(lp + 1, rp)`, `(lp + 2, rp)`, ..., `(rp, rp)`.\n",
    "- This means we can *fix* `rp` and then choose *any* value in [`lp`,`rp`].\n",
    "- Thus, the number of valid windows ***ending*** at `rp` is equal to the size of the window: `rp - lp + 1`."
   ]
  },
  {
   "cell_type": "markdown",
   "metadata": {},
   "source": [
    "### Fixed Window Size\n",
    "- Rather than an inchworm, this is more of a traditional, solid window pane. These problems are usually easier, and $O(n)$ is optimal.\n",
    "\n",
    "#### Example: Length K Subarray With Max Sum\n",
    "- Given an integer array `nums` and an integer `k`, find the sum of the subarray with the largest sum whose length is `k`.\n",
    "\n",
    "```python\n",
    "def find_max_subarr_sum(nums, k) -> int:\n",
    "    n = len(nums)\n",
    "    ans = curr = sum(nums[:k])\n",
    "    for i in range(k, n):\n",
    "        curr += nums[i] - nums[i - k]  # Start at the END of the first window!\n",
    "        ans = max(ans, curr)  # This has a more natural feeling of ending at `n`.\n",
    "    return ans\n",
    "```"
   ]
  },
  {
   "cell_type": "markdown",
   "metadata": {},
   "source": [
    "### Recommended Leetcode Practice Problems\n",
    " - 643. **Maximum Average Subarray I** (`Easy`)\n",
    " - 3. **Longest Substring Without Repeating Characters** (`Medium`)\n",
    " - 76. **Minimum Window Substring** (`Hard`)"
   ]
  },
  {
   "cell_type": "markdown",
   "metadata": {},
   "source": [
    "____\n",
    "## 4. Fast and Slow Pointers\n",
    "This pattern is used for: ***finding cycles within linked lists or arrays***.\n",
    "- This pattern is similar to the two pointers pattern, but the pointers move at different speeds.\n",
    "- As an analogy, imagine two runners going around a track, but one runs twice as fast as the other.\n",
    "  - Eventually, one of the runners will catch up with the slower one and pass them, over and over.\n",
    "- This approach can check if a linked list contains a cycle.\n",
    "  - The slow pointer moves one node at a time, when the fast pointer moves two nodes at a time.\n",
    "  - If there is a cycle, the two nodes will eventually meet.\n",
    "- This method can also find the middle pointer of a linked list in one pass.\n",
    "  - When the fast pointer reaches the end, the slow pointer will be in the middle.\n",
    "\n",
    "### Recommended Leetcode Problems\n",
    " - 141. **Linked List Cycle** (`Easy`)\n",
    " - 202. **Happy Number** (`Easy`)\n",
    " - 287. **Find the Duplicate Number** (`Medium`)"
   ]
  },
  {
   "cell_type": "markdown",
   "metadata": {},
   "source": [
    "____\n",
    "## 5. Linked List In-place Reversal\n",
    "\n",
    "### Recommended Leetcode Problems\n",
    " - 141. **Reverse Linked List** (`Easy`)\n",
    " - 202. **Reverse Linked List II** (`Easy`)\n",
    " - 287. **Swap Nodes in Pairs** (`Medium`)"
   ]
  },
  {
   "cell_type": "markdown",
   "metadata": {},
   "source": [
    "____\n",
    "## 6. Monotonic Stack\n",
    "\n",
    "### Recommended Leetcode Problems\n",
    " - 141. **Next Greater Element I** (`Easy`)\n",
    " - 202. **Daily Temperatures** (`Medium`)\n",
    " - 287. **Largest Rectangle in Histogram** (`Hard`)"
   ]
  },
  {
   "cell_type": "markdown",
   "metadata": {},
   "source": [
    "____\n",
    "## 7. Top K Elements\n",
    "\n",
    "### Recommended Leetcode Problems\n",
    " - 215. **Kth Largest Element in an Array** (`Medium`)\n",
    " - 347. **Top K Frequent Elements** (`Medium`)\n",
    " - 373. **Find K Pairs with Smallest Sums** (`Medium`)"
   ]
  },
  {
   "cell_type": "markdown",
   "metadata": {},
   "source": [
    "____\n",
    "## 9. Modified Binary Search\n",
    "\n",
    "### Recommended Leetcode Problems\n",
    " - 33. **Search in Rotated Sorted Array** (`Medium`)\n",
    " - 153. **Find Minimum in Rotated Sorted Array** (`Medium`)\n",
    " - 240. **Search a 2D Matrix II** (`Medium`)"
   ]
  },
  {
   "cell_type": "markdown",
   "metadata": {},
   "source": [
    "____\n",
    "## 8. Overlapping Intervals\n",
    "\n",
    "### Recommended Leetcode Problems\n",
    " - 56. **Merge Intervals** (`Medium`)\n",
    " - 57. **Insert Interval** (`Medium`)\n",
    " - 435. **Non-overlapping Intervals** (`Medium`)"
   ]
  },
  {
   "cell_type": "markdown",
   "metadata": {},
   "source": [
    "____\n",
    "## 10. Binary Tree Traversal\n",
    "\n",
    "### Recommended Leetcode Problems\n",
    " - 257. **Binary Tree Paths** (`Easy`) [PreOrder]\n",
    " - 230. **Kth Smallest Element in a BST** (`Medium`) [InOrder]\n",
    " - 124. **Binary Tree Maximum Path Sum** (`Hard`) [PostOrder]\n",
    " - 107. **Binary Tree Level Order Traversal II** (`Medium`) [LevelOrder]"
   ]
  },
  {
   "cell_type": "markdown",
   "metadata": {},
   "source": [
    "____\n",
    "## 11. Depth-First Search (DFS)\n",
    "\n",
    "### Recommended Leetcode Problems\n",
    " - 133. **Clone Graph** (`Medium`)\n",
    " - 113. **Path Sum II** (`Medium`)\n",
    " - 210. **Course Schedule II** (`Medium`)"
   ]
  },
  {
   "cell_type": "markdown",
   "metadata": {},
   "source": [
    "____\n",
    "## 12. Breadth-First Search (BFS)\n",
    "\n",
    "### Recommended Leetcode Problems\n",
    " - 133. **Binary Tree Level Order Traversal** (`Medium`)\n",
    " - 113. **Rotting Oranges** (`Medium`)\n",
    " - 210. **Word Ladder** (`Hard`)"
   ]
  },
  {
   "cell_type": "markdown",
   "metadata": {},
   "source": [
    "____\n",
    "## 13. Matrix Traversal\n",
    "\n",
    "### Recommended Leetcode Problems\n",
    " - 733. **Flood Fill** (`Easy`)\n",
    " - 200. **Number of Islands** (`Medium`)\n",
    " - 130. **Surrounded Regions** (`Medium`)"
   ]
  },
  {
   "cell_type": "markdown",
   "metadata": {},
   "source": [
    "____\n",
    "## 14. Backtracking\n",
    "\n",
    "This pattern is used for: ***exploring all potential solution paths and backtracking the paths that do not lead to a valid solution***.\n",
    "\n",
    "### Recommended Leetcode Problems\n",
    " - 46. **Permutations** (`Medium`)\n",
    " - 78. **Subsets** (`Medium`)\n",
    " - 51. **N-Queens** (`Hard`)"
   ]
  },
  {
   "cell_type": "markdown",
   "metadata": {},
   "source": [
    "____\n",
    "## 15. Dynamic Programming (DP)\n",
    "\n",
    "This pattern is used for: ***solving optimization problems by breaking them down into smaller sub-problems and storing their solutions to avoid repetitive work***.\n",
    "\n",
    "DP is a huge subject, so there are some common patterns under this larger umbrella we should know about:\n",
    "- Fibonacci Numbers\n",
    "- 0/1 Knapsack\n",
    "- Longest Common Subsequence (LCS)\n",
    "- Longest Increasing Subsequence (LIS)\n",
    "- Subset Sum\n",
    "- Matrix Chain Multiplication\n",
    "\n",
    "### Recommended Leetcode Problems\n",
    " - 70. **Climbing Stairs** (`Medium`)\n",
    " - 300. **Longest Increasing Subsequence** (`Medium`)\n",
    " - 322. **Coin Change** (`Hard`)\n",
    " - 416. **Partition Equal Subset Sum** (`Medium`)\n",
    " - 1143. **Longest Common Subsequence** (`Medium`)\n",
    " - 312. **Busrt Balloons** (`Hard`)"
   ]
  },
  {
   "cell_type": "markdown",
   "metadata": {},
   "source": [
    "____\n",
    "## 16. Hashing\n",
    "This pattern is used for: ***tracking things we've already encountered***.\n",
    "- A subpattern of this is ***tracking the frequency of things (i.e. counting)***.\n",
    "  - In Python, using a `collections.Counter` (a subclass of `dict`), is the best for types of problems involve finding the element counts in an array, or the character counts in a string.\n",
    "\n",
    "- A hash map is an unordered data structure that stores key-value pairs.\n",
    "- With arrays, we map indices to values, and with hash maps, we map keys to values.\n",
    "  - A key can be almost anything (and it should be immutable).\n",
    "    - Some languages allow for mutable keys, but keeping them immutable is a good rule of thumb.\n",
    "  - Values can be *anything*.\n",
    "\n",
    "*What are the disadvantages of using hash maps?*\n",
    " - For smaller input sizes, they can be slower due to overhead.\n",
    " - There are things called *collisions* too.\n",
    " - Hash tables can take up more space than dynamic arrays, since a hash table's size limit is set by the programmer.\n",
    " - Re-sizing a hash table is expensive since every existing key needs to be re-hashed.\n",
    " - When you don't know how many elements you need to store, arrays are more flexible with resizing and conserving space.\n",
    "\n",
    "*What are collisions?*\n",
    "- When different keys convert to the same integer, it is called a collision.\n",
    "- If these are not handled, older keys will be overridden and data will be lost.\n",
    "- There are multiplle ways to handle collisions, but the most common is *chaining*.\n",
    "- Collisions *must* be handled, but doing so is costly.\n",
    "\n",
    "*How can we minimize collisions?*\n",
    "- Ensure ***the size of the hash table's array and modulus is a prime number***.\n",
    "  - For example: 10**4 + 7, 10**6 + 3, 10**9 + 7\n",
    "\n",
    "*What is chaining?*\n",
    "- We store linked lists inside the hash map's array instead of the elements themselves.\n",
    "- If there are collisions, the collided key-value pairs are linked together in a linked list.\n",
    "\n",
    "*Are sets hash tables?*\n",
    "- No, but they use the same mechanism for hashing keys into integers.\n",
    "- Unlike a hash table, sets *don't map their keys to anything*.\n",
    "- Sets are more convenient when all we care about it checking for existence.\n",
    "\n",
    "*What if we really need to use arrays as key?*\n",
    "- In Python, it's easiest to just convert the array (list) into its immutable analogue, the tuple."
   ]
  },
  {
   "cell_type": "markdown",
   "metadata": {},
   "source": []
  }
 ],
 "metadata": {
  "kernelspec": {
   "display_name": "venv",
   "language": "python",
   "name": "python3"
  },
  "language_info": {
   "codemirror_mode": {
    "name": "ipython",
    "version": 3
   },
   "file_extension": ".py",
   "mimetype": "text/x-python",
   "name": "python",
   "nbconvert_exporter": "python",
   "pygments_lexer": "ipython3",
   "version": "3.12.4"
  }
 },
 "nbformat": 4,
 "nbformat_minor": 2
}
