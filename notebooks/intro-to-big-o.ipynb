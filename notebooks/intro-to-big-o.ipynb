{
 "cells": [
  {
   "cell_type": "markdown",
   "metadata": {},
   "source": [
    "# Introduction to Big O\n",
    "\n",
    "*What is an **algorithm**?*\n",
    "- A step-by-step *recipe* for a computer to follow.\n",
    "- It takes an *input*, and after completing, produces an *output*.\n",
    "\n",
    "*When is an algorithm **deterministic**?*\n",
    "- When, given the same input, it *always* produces the same output.\n",
    "- The algorithm should be correct for any *valid* input.\n",
    "  - e.g., `sum()` is correct for *any* set of provided numbers.\n",
    "\n",
    "*What is Big O notation?*\n",
    "- A notation used to describe the **computational complexity** of an algorithm.\n",
    "- There are two types of complexity: **time** and **space**.\n",
    "\n",
    "*What is time complexity?*\n",
    "- The amount of **runtime**, relative to input size.\n",
    "- As the size of the input grows, *how much longer* does the algorithm take to complete?\n",
    "\n",
    "*What is space complexity?*\n",
    "- The amount of **allocated memory**, relative to input size.\n",
    "- As input size grows, *how much additional memory* does the algorithm use?"
   ]
  },
  {
   "cell_type": "markdown",
   "metadata": {},
   "source": [
    "*Generally, do larger numbers take more time to operate on?*\n",
    "- Theoretically yes, but the time complexity difference between `1 + 2` and `99*99 + 98**98` is negligible.\n",
    "- Practically, we **treat all numbers the same**.\n",
    "\n",
    "*What other conventional rules are implemented when calculating complexity?*\n",
    "- Constants are ignored:"
   ]
  },
  {
   "cell_type": "markdown",
   "metadata": {},
   "source": [
    "### Example: Calculating the largest number in `nums`.\n",
    "*Given the unsorted array `nums`, what is the time complexity of checking each number to see if it is the largest?*\n",
    "- $O(n)$, meaning if `len(nums) = 10`, it would take approximately 10 steps for the algorithm to complete."
   ]
  },
  {
   "cell_type": "code",
   "execution_count": 2,
   "metadata": {},
   "outputs": [
    {
     "data": {
      "text/plain": [
       "1380878341261486750656911803252309726876604105686729638072729543243701479670593033211008001443536626310535980077544691196522513327846303307992442770355560270350429006522588433404602387992091305545"
      ]
     },
     "execution_count": 2,
     "metadata": {},
     "output_type": "execute_result"
    }
   ],
   "source": [
    "99*99 + 98**98"
   ]
  }
 ],
 "metadata": {
  "kernelspec": {
   "display_name": "Python 3",
   "language": "python",
   "name": "python3"
  },
  "language_info": {
   "codemirror_mode": {
    "name": "ipython",
    "version": 3
   },
   "file_extension": ".py",
   "mimetype": "text/x-python",
   "name": "python",
   "nbconvert_exporter": "python",
   "pygments_lexer": "ipython3",
   "version": "3.13.2"
  }
 },
 "nbformat": 4,
 "nbformat_minor": 2
}
